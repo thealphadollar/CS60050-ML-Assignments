{
 "cells": [
  {
   "cell_type": "code",
   "execution_count": 2,
   "metadata": {},
   "outputs": [],
   "source": [
    "import pickle as pkl\n",
    "from sklearn.metrics import normalized_mutual_info_score"
   ]
  },
  {
   "cell_type": "code",
   "execution_count": 3,
   "metadata": {},
   "outputs": [],
   "source": [
    "with open('../data/tdidf_vector.pkl', 'rb') as f_open:\n",
    "    tfidf_matrix = pkl.load(f_open)"
   ]
  },
  {
   "cell_type": "code",
   "execution_count": 26,
   "metadata": {},
   "outputs": [],
   "source": [
    "import pandas as pd\n",
    "import numpy as np\n",
    "from csv import reader\n",
    "\n",
    "ENUM = {\n",
    "    'Buddhism': 0,\n",
    "    'TaoTeChing': 1,\n",
    "    'Upanishad': 2,\n",
    "    'YogaSutra': 3,\n",
    "    'BookOfProverb': 4,\n",
    "    'BookOfEcclesiastes': 5,\n",
    "    'BookOfEccleasiasticus': 6,\n",
    "    'BookOfWisdom': 7\n",
    "}\n",
    "\n",
    "class NMI():\n",
    "    \n",
    "    def __init__(self):\n",
    "        self._load_orig()\n",
    "        self._calc_enp_class()\n",
    "    \n",
    "    def _load_orig(self):\n",
    "        \"\"\"\n",
    "        Load original label data.\n",
    "        \"\"\"\n",
    "        df = pd.read_csv('../data/data_after_1a.csv')\n",
    "        self._labels = df.iloc[:, 0]\n",
    "#         print(self._labels)\n",
    "        for i,val in enumerate(self._labels):\n",
    "            self._labels[i] = ENUM[val]\n",
    "#         print(self._labels)\n",
    "    \n",
    "    def calculate(self, path):\n",
    "        \"\"\"\n",
    "        Calculate NMI for the given file.\n",
    "        \"\"\"\n",
    "        self._load_data_from_file(path)\n",
    "        cluster_entropy = self._enp_clst()\n",
    "        cond_entropy = self._enp_cond()\n",
    "        nmi = 2*cond_entropy/(self._enp_class+cluster_entropy)\n",
    "#         print(f\"NMI: {nmi}\")\n",
    "        return nmi\n",
    "        \n",
    "    def _load_data_from_file(self, path):\n",
    "        \"\"\"\n",
    "        Load data from file containing data as list of lists.\n",
    "        \"\"\"\n",
    "        with open(path, 'r') as f_open:\n",
    "            csv_reader = reader(f_open)\n",
    "#             for row in csv_reader:\n",
    "#                 print(row)\n",
    "            data_list = list(csv_reader)\n",
    "        self._pred_list = data_list\n",
    "        self._total_preds = 0 \n",
    "        for pred in self._pred_list:\n",
    "            self._total_preds += len(pred)\n",
    "#         self.pred_labels = np.zeros(shape=self._labels.shape)\n",
    "    \n",
    "    def _calc_enp_class(self):\n",
    "        \"\"\"\n",
    "        Calculate entropy for the initial labelled data.\n",
    "        \"\"\"\n",
    "        class_list = [self._labels[self._labels == i] for i in range(8)]\n",
    "        self._enp_class = -1 * sum([((len(x)/self._labels.shape[0])*np.log2(len(x)/self._labels.shape[0])) \n",
    "                                    for x in class_list])\n",
    "#         print(self._enp_class)\n",
    "        \n",
    "    def _enp_clst(self):\n",
    "        \"\"\"\n",
    "        Calculate entropy of the given cluster.\n",
    "        \"\"\"\n",
    "        class_list = self._pred_list\n",
    "        return -1 * sum([((len(x)/self._total_preds)*np.log2(len(x)/self._total_preds)) \n",
    "                                    for x in class_list])\n",
    "\n",
    "    def _enp_cond(self):\n",
    "        \"\"\"\n",
    "        Calculate conditional entropy.\n",
    "        \"\"\"\n",
    "        return sum([self._enp_cond_helper(x, self._total_preds) \n",
    "                                    for x in self._pred_list])\n",
    "        \n",
    "    def _enp_cond_helper(self, cur_clust, num_ele):\n",
    "        unique, counts = np.unique(np.asarray(cur_clust), return_counts=True)\n",
    "        unq_cnt_dict = dict(zip(unique, counts))\n",
    "        tempVal = -1 * sum([(unq_cnt_dict[key]/len(cur_clust))*np.log2(unq_cnt_dict[key]/len(cur_clust)) \n",
    "                           for key in unq_cnt_dict.keys()])        \n",
    "        return (len(cur_clust)/num_ele)*tempVal\n",
    "    "
   ]
  },
  {
   "cell_type": "code",
   "execution_count": 27,
   "metadata": {},
   "outputs": [
    {
     "name": "stdout",
     "output_type": "stream",
     "text": [
      "NMI Score For Agglomerative Clustering: 6.498912668993189\n"
     ]
    },
    {
     "name": "stderr",
     "output_type": "stream",
     "text": [
      "/home/thealpha/.local/share/virtualenvs/Assignment_3-TFovwItK/lib/python3.6/site-packages/ipykernel_launcher.py:30: SettingWithCopyWarning: \n",
      "A value is trying to be set on a copy of a slice from a DataFrame\n",
      "\n",
      "See the caveats in the documentation: https://pandas.pydata.org/pandas-docs/stable/user_guide/indexing.html#returning-a-view-versus-a-copy\n"
     ]
    }
   ],
   "source": [
    "nmi = NMI()\n",
    "print(f'NMI Score For Agglomerative Clustering: {nmi.calculate(\"../clusters/agglomerative.txt\")}')\n",
    "print(f'NMI Score For Reduced Agglomerative Clustering: {nmi.calculate(\"../clusters/agglomerative_reduced.txt\")}')\n",
    "print(f'NMI Score For KMeans Clustering: {nmi.calculate(\"../clusters/kmeans.txt\")}')\n",
    "print(f'NMI Score For Reduced KMeans Clustering: {nmi.calculate(\"../clusters/kmeans_reduced.txt\")}')"
   ]
  },
  {
   "cell_type": "code",
   "execution_count": null,
   "metadata": {},
   "outputs": [],
   "source": []
  }
 ],
 "metadata": {
  "kernelspec": {
   "display_name": "Assignment_3",
   "language": "python",
   "name": "assignment_3"
  },
  "language_info": {
   "codemirror_mode": {
    "name": "ipython",
    "version": 3
   },
   "file_extension": ".py",
   "mimetype": "text/x-python",
   "name": "python",
   "nbconvert_exporter": "python",
   "pygments_lexer": "ipython3",
   "version": "3.6.9"
  }
 },
 "nbformat": 4,
 "nbformat_minor": 4
}
