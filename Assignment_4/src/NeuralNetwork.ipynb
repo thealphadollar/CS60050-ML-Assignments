{
 "cells": [
  {
   "cell_type": "code",
   "execution_count": 1,
   "metadata": {},
   "outputs": [],
   "source": [
    "import numpy as np\n",
    "import pandas as pd"
   ]
  },
  {
   "cell_type": "code",
   "execution_count": 2,
   "metadata": {},
   "outputs": [],
   "source": [
    "class NeuralNetwork:\n",
    "    \n",
    "    def __init__(self,\n",
    "                num_hidden,\n",
    "                num_neurons_per_layer,\n",
    "                activation_func_hidden,\n",
    "                num_neurons_out_layer=3,\n",
    "                activation_func_output=\"softmax\",\n",
    "                opt_algo=\"SGD\",\n",
    "                loss_func=\"categorial_cross_entropy_loss\",\n",
    "                learning_rate=0.01,\n",
    "                num_epochs=200):\n",
    "        self.num_hidden = num_hidden\n",
    "        self.num_neurons_per_layer = num_neurons_per_layer,\n",
    "        self.activation_func_hidden = activation_func_hidden\n",
    "        self.num_neurons_out_layer = num_neurons_out_layer\n",
    "        self.activation_func_output = activation_func_output\n",
    "        self.opt_algo = opt_algo\n",
    "        self.loss_func = loss_func\n",
    "        self.learning_rate = learning_rate\n",
    "        self.num_epochs = num_epochs\n",
    "        \n",
    "    def preprocess(self):\n",
    "        pass\n",
    "    \n",
    "    def dataLoader(self):\n",
    "        pass\n",
    "\n",
    "    def weightInitialiser(self):\n",
    "        pass\n",
    "    \n",
    "    def forward(self):\n",
    "        pass\n",
    "    \n",
    "    def backward(self):\n",
    "        pass\n",
    "    \n",
    "    def training(self):\n",
    "        pass\n",
    "    \n",
    "    def predict(self):\n",
    "        pass"
   ]
  },
  {
   "cell_type": "code",
   "execution_count": null,
   "metadata": {},
   "outputs": [],
   "source": []
  }
 ],
 "metadata": {
  "kernelspec": {
   "display_name": "Python 3",
   "language": "python",
   "name": "python3"
  },
  "language_info": {
   "codemirror_mode": {
    "name": "ipython",
    "version": 3
   },
   "file_extension": ".py",
   "mimetype": "text/x-python",
   "name": "python",
   "nbconvert_exporter": "python",
   "pygments_lexer": "ipython3",
   "version": "3.6.9"
  }
 },
 "nbformat": 4,
 "nbformat_minor": 4
}
